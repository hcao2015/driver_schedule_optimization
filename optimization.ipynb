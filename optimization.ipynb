{
 "cells": [
  {
   "cell_type": "code",
   "execution_count": 89,
   "id": "c65c6e20",
   "metadata": {},
   "outputs": [
    {
     "data": {
      "text/html": [
       "<div class=\"data-frame\"><p>448 rows × 9 columns (omitted printing of 4 columns)</p><table class=\"data-frame\"><thead><tr><th></th><th>nhood</th><th>day_of_week</th><th>hour_bucket</th><th>total_travel_time</th><th>avg_travel_time</th></tr><tr><th></th><th title=\"String31\">String31</th><th title=\"Int64\">Int64</th><th title=\"String7\">String7</th><th title=\"Float64\">Float64</th><th title=\"Float64\">Float64</th></tr></thead><tbody><tr><th>1</th><td>Castro/Upper Market</td><td>0</td><td>0-7</td><td>12579.5</td><td>449.27</td></tr><tr><th>2</th><td>Castro/Upper Market</td><td>0</td><td>10-16</td><td>28474.6</td><td>662.2</td></tr><tr><th>3</th><td>Castro/Upper Market</td><td>0</td><td>16-19</td><td>23163.5</td><td>723.86</td></tr><tr><th>4</th><td>Castro/Upper Market</td><td>0</td><td>19-0</td><td>17887.1</td><td>483.44</td></tr><tr><th>5</th><td>Castro/Upper Market</td><td>0</td><td>7-10</td><td>13090.7</td><td>484.84</td></tr><tr><th>6</th><td>Castro/Upper Market</td><td>1</td><td>0-7</td><td>7486.44</td><td>340.29</td></tr><tr><th>7</th><td>Castro/Upper Market</td><td>1</td><td>10-16</td><td>21140.9</td><td>587.25</td></tr><tr><th>8</th><td>Castro/Upper Market</td><td>1</td><td>16-19</td><td>23994.6</td><td>774.02</td></tr><tr><th>9</th><td>Castro/Upper Market</td><td>1</td><td>19-0</td><td>19165.8</td><td>532.38</td></tr><tr><th>10</th><td>Castro/Upper Market</td><td>1</td><td>7-10</td><td>10038.0</td><td>456.27</td></tr><tr><th>11</th><td>Castro/Upper Market</td><td>2</td><td>0-7</td><td>12310.0</td><td>439.64</td></tr><tr><th>12</th><td>Castro/Upper Market</td><td>2</td><td>10-16</td><td>21325.5</td><td>561.2</td></tr><tr><th>13</th><td>Castro/Upper Market</td><td>2</td><td>16-19</td><td>27714.5</td><td>815.13</td></tr><tr><th>14</th><td>Castro/Upper Market</td><td>2</td><td>19-0</td><td>18838.9</td><td>509.16</td></tr><tr><th>15</th><td>Castro/Upper Market</td><td>2</td><td>7-10</td><td>13073.8</td><td>522.95</td></tr><tr><th>16</th><td>Castro/Upper Market</td><td>3</td><td>0-7</td><td>6971.12</td><td>290.46</td></tr><tr><th>17</th><td>Castro/Upper Market</td><td>3</td><td>10-16</td><td>28128.1</td><td>654.14</td></tr><tr><th>18</th><td>Castro/Upper Market</td><td>3</td><td>16-19</td><td>31604.8</td><td>854.18</td></tr><tr><th>19</th><td>Castro/Upper Market</td><td>3</td><td>19-0</td><td>19858.8</td><td>536.73</td></tr><tr><th>20</th><td>Castro/Upper Market</td><td>3</td><td>7-10</td><td>12082.5</td><td>483.3</td></tr><tr><th>21</th><td>Castro/Upper Market</td><td>4</td><td>0-7</td><td>10638.2</td><td>366.83</td></tr><tr><th>22</th><td>Castro/Upper Market</td><td>4</td><td>10-16</td><td>33499.8</td><td>744.44</td></tr><tr><th>23</th><td>Castro/Upper Market</td><td>4</td><td>16-19</td><td>25102.9</td><td>738.32</td></tr><tr><th>24</th><td>Castro/Upper Market</td><td>4</td><td>19-0</td><td>21765.9</td><td>506.18</td></tr><tr><th>25</th><td>Castro/Upper Market</td><td>4</td><td>7-10</td><td>12341.0</td><td>474.65</td></tr><tr><th>26</th><td>Castro/Upper Market</td><td>5</td><td>0-7</td><td>12804.0</td><td>400.12</td></tr><tr><th>27</th><td>Castro/Upper Market</td><td>5</td><td>10-16</td><td>25919.3</td><td>617.13</td></tr><tr><th>28</th><td>Castro/Upper Market</td><td>5</td><td>16-19</td><td>17587.9</td><td>517.29</td></tr><tr><th>29</th><td>Castro/Upper Market</td><td>5</td><td>19-0</td><td>23502.7</td><td>522.28</td></tr><tr><th>30</th><td>Castro/Upper Market</td><td>5</td><td>7-10</td><td>12936.7</td><td>404.27</td></tr><tr><th>&vellip;</th><td>&vellip;</td><td>&vellip;</td><td>&vellip;</td><td>&vellip;</td><td>&vellip;</td></tr></tbody></table></div>"
      ],
      "text/latex": [
       "\\begin{tabular}{r|cccccc}\n",
       "\t& nhood & day\\_of\\_week & hour\\_bucket & total\\_travel\\_time & avg\\_travel\\_time & \\\\\n",
       "\t\\hline\n",
       "\t& String31 & Int64 & String7 & Float64 & Float64 & \\\\\n",
       "\t\\hline\n",
       "\t1 & Castro/Upper Market & 0 & 0-7 & 12579.5 & 449.27 & $\\dots$ \\\\\n",
       "\t2 & Castro/Upper Market & 0 & 10-16 & 28474.6 & 662.2 & $\\dots$ \\\\\n",
       "\t3 & Castro/Upper Market & 0 & 16-19 & 23163.5 & 723.86 & $\\dots$ \\\\\n",
       "\t4 & Castro/Upper Market & 0 & 19-0 & 17887.1 & 483.44 & $\\dots$ \\\\\n",
       "\t5 & Castro/Upper Market & 0 & 7-10 & 13090.7 & 484.84 & $\\dots$ \\\\\n",
       "\t6 & Castro/Upper Market & 1 & 0-7 & 7486.44 & 340.29 & $\\dots$ \\\\\n",
       "\t7 & Castro/Upper Market & 1 & 10-16 & 21140.9 & 587.25 & $\\dots$ \\\\\n",
       "\t8 & Castro/Upper Market & 1 & 16-19 & 23994.6 & 774.02 & $\\dots$ \\\\\n",
       "\t9 & Castro/Upper Market & 1 & 19-0 & 19165.8 & 532.38 & $\\dots$ \\\\\n",
       "\t10 & Castro/Upper Market & 1 & 7-10 & 10038.0 & 456.27 & $\\dots$ \\\\\n",
       "\t11 & Castro/Upper Market & 2 & 0-7 & 12310.0 & 439.64 & $\\dots$ \\\\\n",
       "\t12 & Castro/Upper Market & 2 & 10-16 & 21325.5 & 561.2 & $\\dots$ \\\\\n",
       "\t13 & Castro/Upper Market & 2 & 16-19 & 27714.5 & 815.13 & $\\dots$ \\\\\n",
       "\t14 & Castro/Upper Market & 2 & 19-0 & 18838.9 & 509.16 & $\\dots$ \\\\\n",
       "\t15 & Castro/Upper Market & 2 & 7-10 & 13073.8 & 522.95 & $\\dots$ \\\\\n",
       "\t16 & Castro/Upper Market & 3 & 0-7 & 6971.12 & 290.46 & $\\dots$ \\\\\n",
       "\t17 & Castro/Upper Market & 3 & 10-16 & 28128.1 & 654.14 & $\\dots$ \\\\\n",
       "\t18 & Castro/Upper Market & 3 & 16-19 & 31604.8 & 854.18 & $\\dots$ \\\\\n",
       "\t19 & Castro/Upper Market & 3 & 19-0 & 19858.8 & 536.73 & $\\dots$ \\\\\n",
       "\t20 & Castro/Upper Market & 3 & 7-10 & 12082.5 & 483.3 & $\\dots$ \\\\\n",
       "\t21 & Castro/Upper Market & 4 & 0-7 & 10638.2 & 366.83 & $\\dots$ \\\\\n",
       "\t22 & Castro/Upper Market & 4 & 10-16 & 33499.8 & 744.44 & $\\dots$ \\\\\n",
       "\t23 & Castro/Upper Market & 4 & 16-19 & 25102.9 & 738.32 & $\\dots$ \\\\\n",
       "\t24 & Castro/Upper Market & 4 & 19-0 & 21765.9 & 506.18 & $\\dots$ \\\\\n",
       "\t25 & Castro/Upper Market & 4 & 7-10 & 12341.0 & 474.65 & $\\dots$ \\\\\n",
       "\t26 & Castro/Upper Market & 5 & 0-7 & 12804.0 & 400.12 & $\\dots$ \\\\\n",
       "\t27 & Castro/Upper Market & 5 & 10-16 & 25919.3 & 617.13 & $\\dots$ \\\\\n",
       "\t28 & Castro/Upper Market & 5 & 16-19 & 17587.9 & 517.29 & $\\dots$ \\\\\n",
       "\t29 & Castro/Upper Market & 5 & 19-0 & 23502.7 & 522.28 & $\\dots$ \\\\\n",
       "\t30 & Castro/Upper Market & 5 & 7-10 & 12936.7 & 404.27 & $\\dots$ \\\\\n",
       "\t$\\dots$ & $\\dots$ & $\\dots$ & $\\dots$ & $\\dots$ & $\\dots$ &  \\\\\n",
       "\\end{tabular}\n"
      ],
      "text/plain": [
       "\u001b[1m448×9 DataFrame\u001b[0m\n",
       "\u001b[1m Row \u001b[0m│\u001b[1m nhood               \u001b[0m\u001b[1m day_of_week \u001b[0m\u001b[1m hour_bucket \u001b[0m\u001b[1m total_travel_time \u001b[0m\u001b[1m avg_t\u001b[0m ⋯\n",
       "\u001b[1m     \u001b[0m│\u001b[90m String31            \u001b[0m\u001b[90m Int64       \u001b[0m\u001b[90m String7     \u001b[0m\u001b[90m Float64           \u001b[0m\u001b[90m Float\u001b[0m ⋯\n",
       "─────┼──────────────────────────────────────────────────────────────────────────\n",
       "   1 │ Castro/Upper Market            0  0-7                   12579.5         ⋯\n",
       "   2 │ Castro/Upper Market            0  10-16                 28474.6\n",
       "   3 │ Castro/Upper Market            0  16-19                 23163.5\n",
       "   4 │ Castro/Upper Market            0  19-0                  17887.1\n",
       "   5 │ Castro/Upper Market            0  7-10                  13090.7         ⋯\n",
       "   6 │ Castro/Upper Market            1  0-7                    7486.44\n",
       "   7 │ Castro/Upper Market            1  10-16                 21140.9\n",
       "   8 │ Castro/Upper Market            1  16-19                 23994.6\n",
       "   9 │ Castro/Upper Market            1  19-0                  19165.8         ⋯\n",
       "  10 │ Castro/Upper Market            1  7-10                  10038.0\n",
       "  11 │ Castro/Upper Market            2  0-7                   12310.0\n",
       "  ⋮  │          ⋮                ⋮            ⋮               ⋮                ⋱\n",
       " 439 │ Western SoMa                   5  0-7                    7267.74\n",
       " 440 │ Western SoMa                   5  10-16                  9082.88        ⋯\n",
       " 441 │ Western SoMa                   5  16-19                  9476.79\n",
       " 442 │ Western SoMa                   5  19-0                   9222.87\n",
       " 443 │ Western SoMa                   5  7-10                   7276.38\n",
       " 444 │ Western SoMa                   6  0-7                    7096.21        ⋯\n",
       " 445 │ Western SoMa                   6  10-16                  7383.32\n",
       " 446 │ Western SoMa                   6  16-19                  7225.25\n",
       " 447 │ Western SoMa                   6  19-0                   9799.18\n",
       " 448 │ Western SoMa                   6  7-10                   6744.22        ⋯\n",
       "\u001b[36m                                                  5 columns and 427 rows omitted\u001b[0m"
      ]
     },
     "execution_count": 89,
     "metadata": {},
     "output_type": "execute_result"
    }
   ],
   "source": [
    "using CSV\n",
    "using DataFrames\n",
    "\n",
    "demand=CSV.read(\"./cleaned_data/demand_pickups.csv\", DataFrame)\n",
    "times=CSV.read(\"./cleaned_data/travel_times.csv\", DataFrame)"
   ]
  },
  {
   "cell_type": "code",
   "execution_count": 125,
   "id": "861e8fa7",
   "metadata": {},
   "outputs": [
    {
     "data": {
      "text/html": [
       "<div class=\"data-frame\"><p>9 rows × 7 columns (omitted printing of 1 columns)</p><table class=\"data-frame\"><thead><tr><th></th><th>variable</th><th>mean</th><th>min</th><th>median</th><th>max</th><th>nmissing</th></tr><tr><th></th><th title=\"Symbol\">Symbol</th><th title=\"Union{Nothing, Float64}\">Union…</th><th title=\"Any\">Any</th><th title=\"Union{Nothing, Float64}\">Union…</th><th title=\"Any\">Any</th><th title=\"Int64\">Int64</th></tr></thead><tbody><tr><th>1</th><td>nhood</td><td></td><td>Castro/Upper Market</td><td></td><td>Western SoMa</td><td>0</td></tr><tr><th>2</th><td>day_of_week</td><td>3.0</td><td>0</td><td>3.0</td><td>6</td><td>0</td></tr><tr><th>3</th><td>hour_bucket</td><td></td><td>0-7</td><td></td><td>7-10</td><td>0</td></tr><tr><th>4</th><td>avg_pickups</td><td>12.3004</td><td>0.9</td><td>11.675</td><td>42.82</td><td>0</td></tr><tr><th>5</th><td>max_pickups</td><td>47.6583</td><td>4.75</td><td>41.875</td><td>201.75</td><td>0</td></tr><tr><th>6</th><td>min_pickups</td><td>1.62236</td><td>0.0</td><td>0.8</td><td>13.5</td><td>0</td></tr><tr><th>7</th><td>nhood_id</td><td>9.5</td><td>0</td><td>9.5</td><td>19</td><td>0</td></tr><tr><th>8</th><td>hour_bucket_id</td><td>2.0</td><td>0</td><td>2.0</td><td>4</td><td>0</td></tr><tr><th>9</th><td>P_new_customer</td><td>0.500157</td><td>0.500001</td><td>0.500099</td><td>0.501236</td><td>0</td></tr></tbody></table></div>"
      ],
      "text/latex": [
       "\\begin{tabular}{r|ccccccc}\n",
       "\t& variable & mean & min & median & max & nmissing & \\\\\n",
       "\t\\hline\n",
       "\t& Symbol & Union… & Any & Union… & Any & Int64 & \\\\\n",
       "\t\\hline\n",
       "\t1 & nhood &  & Castro/Upper Market &  & Western SoMa & 0 & $\\dots$ \\\\\n",
       "\t2 & day\\_of\\_week & 3.0 & 0 & 3.0 & 6 & 0 & $\\dots$ \\\\\n",
       "\t3 & hour\\_bucket &  & 0-7 &  & 7-10 & 0 & $\\dots$ \\\\\n",
       "\t4 & avg\\_pickups & 12.3004 & 0.9 & 11.675 & 42.82 & 0 & $\\dots$ \\\\\n",
       "\t5 & max\\_pickups & 47.6583 & 4.75 & 41.875 & 201.75 & 0 & $\\dots$ \\\\\n",
       "\t6 & min\\_pickups & 1.62236 & 0.0 & 0.8 & 13.5 & 0 & $\\dots$ \\\\\n",
       "\t7 & nhood\\_id & 9.5 & 0 & 9.5 & 19 & 0 & $\\dots$ \\\\\n",
       "\t8 & hour\\_bucket\\_id & 2.0 & 0 & 2.0 & 4 & 0 & $\\dots$ \\\\\n",
       "\t9 & P\\_new\\_customer & 0.500157 & 0.500001 & 0.500099 & 0.501236 & 0 & $\\dots$ \\\\\n",
       "\\end{tabular}\n"
      ],
      "text/plain": [
       "\u001b[1m9×7 DataFrame\u001b[0m\n",
       "\u001b[1m Row \u001b[0m│\u001b[1m variable       \u001b[0m\u001b[1m mean     \u001b[0m\u001b[1m min                 \u001b[0m\u001b[1m median   \u001b[0m\u001b[1m max          \u001b[0m\u001b[1m \u001b[0m ⋯\n",
       "\u001b[1m     \u001b[0m│\u001b[90m Symbol         \u001b[0m\u001b[90m Union…   \u001b[0m\u001b[90m Any                 \u001b[0m\u001b[90m Union…   \u001b[0m\u001b[90m Any          \u001b[0m\u001b[90m \u001b[0m ⋯\n",
       "─────┼──────────────────────────────────────────────────────────────────────────\n",
       "   1 │ nhood          \u001b[90m          \u001b[0m Castro/Upper Market \u001b[90m          \u001b[0m Western SoMa   ⋯\n",
       "   2 │ day_of_week     3.0       0                    3.0       6\n",
       "   3 │ hour_bucket    \u001b[90m          \u001b[0m 0-7                 \u001b[90m          \u001b[0m 7-10\n",
       "   4 │ avg_pickups     12.3004   0.9                  11.675    42.82\n",
       "   5 │ max_pickups     47.6583   4.75                 41.875    201.75         ⋯\n",
       "   6 │ min_pickups     1.62236   0.0                  0.8       13.5\n",
       "   7 │ nhood_id        9.5       0                    9.5       19\n",
       "   8 │ hour_bucket_id  2.0       0                    2.0       4\n",
       "   9 │ P_new_customer  0.500157  0.500001             0.500099  0.501236       ⋯\n",
       "\u001b[36m                                                               2 columns omitted\u001b[0m"
      ]
     },
     "execution_count": 125,
     "metadata": {},
     "output_type": "execute_result"
    }
   ],
   "source": [
    "\n",
    "describe(demand)\n"
   ]
  },
  {
   "cell_type": "code",
   "execution_count": 123,
   "id": "63fe4979",
   "metadata": {},
   "outputs": [
    {
     "data": {
      "text/html": [
       "<div class=\"data-frame\"><p>9 rows × 7 columns (omitted printing of 1 columns)</p><table class=\"data-frame\"><thead><tr><th></th><th>variable</th><th>mean</th><th>min</th><th>median</th><th>max</th><th>nmissing</th></tr><tr><th></th><th title=\"Symbol\">Symbol</th><th title=\"Union{Nothing, Float64}\">Union…</th><th title=\"Any\">Any</th><th title=\"Union{Nothing, Float64}\">Union…</th><th title=\"Any\">Any</th><th title=\"Int64\">Int64</th></tr></thead><tbody><tr><th>1</th><td>nhood</td><td></td><td>Castro/Upper Market</td><td></td><td>Western SoMa</td><td>0</td></tr><tr><th>2</th><td>day_of_week</td><td>2.97991</td><td>0</td><td>3.0</td><td>6</td><td>0</td></tr><tr><th>3</th><td>hour_bucket</td><td></td><td>0-7</td><td></td><td>7-10</td><td>0</td></tr><tr><th>4</th><td>total_travel_time</td><td>37532.0</td><td>198.17</td><td>16573.7</td><td>2.39817e5</td><td>0</td></tr><tr><th>5</th><td>avg_travel_time</td><td>839.467</td><td>129.45</td><td>660.79</td><td>4046.89</td><td>0</td></tr><tr><th>6</th><td>min_travel_time</td><td>455.497</td><td>25.67</td><td>219.1</td><td>3351.45</td><td>0</td></tr><tr><th>7</th><td>max_travel_time</td><td>1716.58</td><td>193.29</td><td>1572.9</td><td>5583.89</td><td>0</td></tr><tr><th>8</th><td>nhood_id</td><td>8.88839</td><td>0</td><td>8.0</td><td>19</td><td>0</td></tr><tr><th>9</th><td>hour_bucket_id</td><td>1.98884</td><td>0</td><td>2.0</td><td>4</td><td>0</td></tr></tbody></table></div>"
      ],
      "text/latex": [
       "\\begin{tabular}{r|ccccccc}\n",
       "\t& variable & mean & min & median & max & nmissing & \\\\\n",
       "\t\\hline\n",
       "\t& Symbol & Union… & Any & Union… & Any & Int64 & \\\\\n",
       "\t\\hline\n",
       "\t1 & nhood &  & Castro/Upper Market &  & Western SoMa & 0 & $\\dots$ \\\\\n",
       "\t2 & day\\_of\\_week & 2.97991 & 0 & 3.0 & 6 & 0 & $\\dots$ \\\\\n",
       "\t3 & hour\\_bucket &  & 0-7 &  & 7-10 & 0 & $\\dots$ \\\\\n",
       "\t4 & total\\_travel\\_time & 37532.0 & 198.17 & 16573.7 & 2.39817e5 & 0 & $\\dots$ \\\\\n",
       "\t5 & avg\\_travel\\_time & 839.467 & 129.45 & 660.79 & 4046.89 & 0 & $\\dots$ \\\\\n",
       "\t6 & min\\_travel\\_time & 455.497 & 25.67 & 219.1 & 3351.45 & 0 & $\\dots$ \\\\\n",
       "\t7 & max\\_travel\\_time & 1716.58 & 193.29 & 1572.9 & 5583.89 & 0 & $\\dots$ \\\\\n",
       "\t8 & nhood\\_id & 8.88839 & 0 & 8.0 & 19 & 0 & $\\dots$ \\\\\n",
       "\t9 & hour\\_bucket\\_id & 1.98884 & 0 & 2.0 & 4 & 0 & $\\dots$ \\\\\n",
       "\\end{tabular}\n"
      ],
      "text/plain": [
       "\u001b[1m9×7 DataFrame\u001b[0m\n",
       "\u001b[1m Row \u001b[0m│\u001b[1m variable          \u001b[0m\u001b[1m mean    \u001b[0m\u001b[1m min                 \u001b[0m\u001b[1m median  \u001b[0m\u001b[1m max          \u001b[0m\u001b[1m\u001b[0m ⋯\n",
       "\u001b[1m     \u001b[0m│\u001b[90m Symbol            \u001b[0m\u001b[90m Union…  \u001b[0m\u001b[90m Any                 \u001b[0m\u001b[90m Union…  \u001b[0m\u001b[90m Any          \u001b[0m\u001b[90m\u001b[0m ⋯\n",
       "─────┼──────────────────────────────────────────────────────────────────────────\n",
       "   1 │ nhood             \u001b[90m         \u001b[0m Castro/Upper Market \u001b[90m         \u001b[0m Western SoMa  ⋯\n",
       "   2 │ day_of_week        2.97991  0                    3.0      6\n",
       "   3 │ hour_bucket       \u001b[90m         \u001b[0m 0-7                 \u001b[90m         \u001b[0m 7-10\n",
       "   4 │ total_travel_time  37532.0  198.17               16573.7  2.39817e5\n",
       "   5 │ avg_travel_time    839.467  129.45               660.79   4046.89       ⋯\n",
       "   6 │ min_travel_time    455.497  25.67                219.1    3351.45\n",
       "   7 │ max_travel_time    1716.58  193.29               1572.9   5583.89\n",
       "   8 │ nhood_id           8.88839  0                    8.0      19\n",
       "   9 │ hour_bucket_id     1.98884  0                    2.0      4             ⋯\n",
       "\u001b[36m                                                               2 columns omitted\u001b[0m"
      ]
     },
     "execution_count": 123,
     "metadata": {},
     "output_type": "execute_result"
    }
   ],
   "source": [
    "describe(times)"
   ]
  },
  {
   "cell_type": "code",
   "execution_count": 113,
   "id": "ea2dcb5a",
   "metadata": {},
   "outputs": [
    {
     "data": {
      "text/plain": [
       "448×700 Matrix{Float64}:\n",
       " 0.01517     0.0151705   0.0151723   …  0.015172    0.0151713   0.0151706\n",
       " 0.01924     0.0192406   0.0192428      0.0192424   0.0192416   0.0192407\n",
       " 0.0212814   0.0212821   0.0212846      0.0212841   0.0212832   0.0212822\n",
       " 0.0172481   0.0172487   0.0172507      0.0172504   0.0172496   0.0172488\n",
       " 0.019216    0.0192166   0.0192189      0.0192185   0.0192177   0.0192167\n",
       " 0.00976678  0.00976711  0.00976824  …  0.00976804  0.00976762  0.00976713\n",
       " 0.0177137   0.0177143   0.0177164      0.017716    0.0177152   0.0177143\n",
       " 0.0209912   0.0209918   0.0209943      0.0209938   0.020993    0.0209919\n",
       " 0.0176122   0.0176128   0.0176148      0.0176145   0.0176137   0.0176128\n",
       " 0.00998848  0.00998881  0.00998997     0.00998977  0.00998934  0.00998884\n",
       " 0.0216148   0.0216155   0.021618    …  0.0216176   0.0216167   0.0216156\n",
       " 0.0162576   0.0162581   0.01626        0.0162596   0.016259    0.0162581\n",
       " 0.0265236   0.0265245   0.0265275      0.026527    0.0265259   0.0265245\n",
       " ⋮                                   ⋱                          \n",
       " 0.0076423   0.00764255  0.00764344     0.00764328  0.00764296  0.00764257\n",
       " 0.00952172  0.00952203  0.00952314     0.00952294  0.00952253  0.00952206\n",
       " 0.00421506  0.0042152   0.00421569     0.0042156   0.00421542  0.00421521\n",
       " 0.00926059  0.00926089  0.00926197     0.00926178  0.00926139  0.00926092\n",
       " 0.00874684  0.00874713  0.00874815  …  0.00874797  0.0087476   0.00874716\n",
       " 0.00385291  0.00385303  0.00385348     0.0038534   0.00385324  0.00385304\n",
       " 0.00477386  0.00477402  0.00477457     0.00477447  0.00477427  0.00477403\n",
       " 0.00418534  0.00418547  0.00418596     0.00418587  0.0041857   0.00418549\n",
       " 0.00479136  0.00479151  0.00479207     0.00479197  0.00479177  0.00479153\n",
       " 0.00417395  0.00417409  0.00417457  …  0.00417449  0.00417431  0.0041741\n",
       " 0.00762037  0.00762062  0.00762151     0.00762135  0.00762102  0.00762064\n",
       " 0.00414939  0.00414952  0.00415        0.00414992  0.00414974  0.00414953"
      ]
     },
     "execution_count": 113,
     "metadata": {},
     "output_type": "execute_result"
    }
   ],
   "source": [
    "#Objective function \n",
    "f=transpose(P_ncustomer.*Min_Trips).*avg_revenue_trip"
   ]
  },
  {
   "cell_type": "code",
   "execution_count": null,
   "id": "cb6d79f2",
   "metadata": {},
   "outputs": [],
   "source": [
    "#Objective\n",
    "sum(f*x[i,j])\n",
    "#Contraints: \n",
    "x[i,j]<=A\n",
    "x[i,j]<=B\n",
    "sum(x[i])<=max_hours_per_week\n",
    "sum(x[j])<=1\n"
   ]
  },
  {
   "cell_type": "code",
   "execution_count": 124,
   "id": "117f7184",
   "metadata": {},
   "outputs": [
    {
     "ename": "LoadError",
     "evalue": "UndefVarError: i not defined",
     "output_type": "error",
     "traceback": [
      "UndefVarError: i not defined",
      "",
      "Stacktrace:",
      " [1] macro expansion",
      "   @ C:\\Users\\Mariana\\.julia\\packages\\JuMP\\klrjG\\src\\macros.jl:142 [inlined]",
      " [2] top-level scope",
      "   @ In[124]:4",
      " [3] eval",
      "   @ .\\boot.jl:373 [inlined]",
      " [4] include_string(mapexpr::typeof(REPL.softscope), mod::Module, code::String, filename::String)",
      "   @ Base .\\loading.jl:1196"
     ]
    }
   ],
   "source": [
    "#Ignore \n",
    "# using JuMP, GLPK\n",
    "\n",
    "# myModel = Model(with_optimizer(GLPK.Optimizer))\n",
    "# @variable(myModel, x[i,j] >= 0, Int)\n",
    "# @constraint(myModel, x[i,j]<=A)\n",
    "# @constraint(myModel, x[i,j]<=B)\n",
    "# @constraint(myModel,  sum(x[i] for i=1:n)<=max_hours_per_week)\n",
    "# @constraint(myModel,  sum(x[j] for j=1:n)<=1)\n",
    "# @objective(myModel, Max, f*x[i,j])\n",
    "# myModel\n"
   ]
  },
  {
   "cell_type": "code",
   "execution_count": 215,
   "id": "5713d942",
   "metadata": {},
   "outputs": [
    {
     "data": {
      "text/plain": [
       "(700, 9)"
      ]
     },
     "execution_count": 215,
     "metadata": {},
     "output_type": "execute_result"
    }
   ],
   "source": [
    "size(demand)"
   ]
  },
  {
   "cell_type": "code",
   "execution_count": 216,
   "id": "166bea17",
   "metadata": {},
   "outputs": [
    {
     "data": {
      "text/plain": [
       "(448, 9)"
      ]
     },
     "execution_count": 216,
     "metadata": {},
     "output_type": "execute_result"
    }
   ],
   "source": [
    "size(times)"
   ]
  },
  {
   "cell_type": "code",
   "execution_count": 146,
   "id": "ffbab8e8",
   "metadata": {},
   "outputs": [
    {
     "data": {
      "text/plain": [
       "cvt_traffic_probability (generic function with 1 method)"
      ]
     },
     "execution_count": 146,
     "metadata": {},
     "output_type": "execute_result"
    }
   ],
   "source": [
    "# this function calculates the probability of demand\n",
    "function cvt_traffic_probability(Avg_Traffic,p_max,p_min)\n",
    "    #p_min .+ transpose(a/b).*(demand[!,\"avg_pickups\"]-demand[!,\"min_pickups\"])\n",
    "    max_traffic = maximum(Avg_Traffic);\n",
    "    min_traffic = minimum(Avg_Traffic);\n",
    "\n",
    "    multiplier = (p_max.-p_min)/(max_traffic.-min_traffic);\n",
    "\n",
    "    p = p_min.+ multiplier.*(Avg_Traffic.-min_traffic);\n",
    "    p;\n",
    "end\n"
   ]
  },
  {
   "cell_type": "code",
   "execution_count": 223,
   "id": "e9cd5386",
   "metadata": {},
   "outputs": [
    {
     "data": {
      "text/plain": [
       "20"
      ]
     },
     "execution_count": 223,
     "metadata": {},
     "output_type": "execute_result"
    }
   ],
   "source": [
    "time_slot_available = ones(7,24);\n",
    "time_slot_available[2,:] .= 0;\n",
    "time_slot_available\n",
    "avg_revenue_trip=12\n",
    "max_hours_per_week=20\n",
    "# time_slot_available[1,1+1]"
   ]
  },
  {
   "cell_type": "code",
   "execution_count": 274,
   "id": "79bbfd41",
   "metadata": {},
   "outputs": [
    {
     "data": {
      "text/plain": [
       "matchArray (generic function with 1 method)"
      ]
     },
     "execution_count": 274,
     "metadata": {},
     "output_type": "execute_result"
    }
   ],
   "source": [
    "\n",
    "function matchArray(array, value)\n",
    "    temp=zeros(Int,size(array));\n",
    "    index=1\n",
    "    for v=array\n",
    "        if(v==value)\n",
    "            temp[index]=1\n",
    "        end\n",
    "        index=index+1\n",
    "    end\n",
    "    temp\n",
    "end"
   ]
  },
  {
   "cell_type": "code",
   "execution_count": 279,
   "id": "1303dc44",
   "metadata": {},
   "outputs": [
    {
     "ename": "LoadError",
     "evalue": "BoundsError: attempt to access 7×1 Matrix{Float64} at index [1, [0, 0, 0, 0, 0, 0, 0, 0, 0, 0  …  0, 0, 0, 0, 0, 0, 0, 0, 0, 0]]",
     "output_type": "error",
     "traceback": [
      "BoundsError: attempt to access 7×1 Matrix{Float64} at index [1, [0, 0, 0, 0, 0, 0, 0, 0, 0, 0  …  0, 0, 0, 0, 0, 0, 0, 0, 0, 0]]",
      "",
      "Stacktrace:",
      " [1] throw_boundserror(A::Matrix{Float64}, I::Tuple{Int64, Vector{Int64}})",
      "   @ Base .\\abstractarray.jl:691",
      " [2] checkbounds",
      "   @ .\\abstractarray.jl:656 [inlined]",
      " [3] _setindex!",
      "   @ .\\multidimensional.jl:893 [inlined]",
      " [4] setindex!(::Matrix{Float64}, ::Int64, ::Int64, ::Vector{Int64})",
      "   @ Base .\\abstractarray.jl:1315",
      " [5] top-level scope",
      "   @ .\\In[279]:92",
      " [6] eval",
      "   @ .\\boot.jl:373 [inlined]",
      " [7] include_string(mapexpr::typeof(REPL.softscope), mod::Module, code::String, filename::String)",
      "   @ Base .\\loading.jl:1196"
     ]
    }
   ],
   "source": [
    "#Create function\n",
    "#Import Data\n",
    "D=CSV.read(\"./cleaned_data/demand_pickups.csv\", DataFrame)\n",
    "T=CSV.read(\"./cleaned_data/travel_times.csv\", DataFrame)\n",
    "\n",
    "#Store each variable \n",
    "Weekday = T.day_of_week; # Using T instead of D beacuse i need same size array for operations below? \n",
    "Timeslot = T.hour_bucket;\n",
    "Max_Duration = T.max_travel_time;\n",
    "Avg_Traffic = D.avg_pickups;\n",
    "Region = T.nhood_id;\n",
    "\n",
    "min_pickups=D.min_pickups;\n",
    "\n",
    "p_max=1\n",
    "p_min=0.5\n",
    "\n",
    "#Convert Traffic into Probability of Getting new Customers\n",
    "#P_new_customer is a vertical vector of the same size with Avg_Traffic\n",
    "P_newcustomer = cvt_traffic_probability(Avg_Traffic,1,0.5)\n",
    "\n",
    "\n",
    "#Convert Max_Duration to Minimum Trips per Hour\n",
    "\n",
    "Min_Trips = 3600/Max_Duration\n",
    " \n",
    "#Adjust the data based on the given parameters - driver's preference\n",
    "weekday_choices = 1:7;\n",
    "time_choices = [0 1 7 8 16 17 18 19 20 21 22 23];\n",
    "timeslot_choices = [0 1 2 3 4 5]; #Timeslots that cooresponds to the above time_choices\n",
    "n_weekdays_choices = size(weekday_choices,1); #\n",
    "n_timeslot_choices = size(weekday_choices,1);\n",
    "n_timeslot_choices = size(timeslot_choices,1);\n",
    "n_weekdays = 7; # Number of weekdays\n",
    "#  Initialize indices of element to be removed: all are 0 in the beginning\n",
    "indices_to_be_rm = zeros(size(Weekday));\n",
    "for d = weekday_choices # Row\n",
    "    for t = time_choices # Column\n",
    "        if time_slot_available[d,t+1] == 0 # Mark as un-available\n",
    "            #Find the timeslot and weekday that cooresponding to that hour\n",
    "            t_ind = indexin(t,time_choices);\n",
    "            t_ind = t_ind[1][2];\n",
    "            temp=floor((t_ind-1)/2)+1\n",
    "            timeslot_to_be_rm = timeslot_choices[trunc(Int,temp)]+1;\n",
    "#             timeslot_to_be_rm = timeslot_choices(floor((t_ind-1)/2)+1)+1;\n",
    "             #timeslot_to_be_rm = timeslot_choices(floor((indexin(t,time_choices)-1)/2)+1)+1;\n",
    "#            %if mod(t_ind,2) == 0\n",
    "#            %    timeslot_to_be_rm = timeslot_choices(floor(indexin(t,time_choices)/2));\n",
    "#            %else\n",
    "#            %    timeslot_to_be_rm = timeslot_choices(floor(indexin(t,time_choices)/2)+1);\n",
    "#            %end\n",
    "            weekday_to_be_rm = d;\n",
    "#            % Mark the indices of the elements to be removed\n",
    "#             indices_to_be_rm(Weekday == weekday_to_be_rm & Timeslot == timeslot_to_be_rm) = 1;\n",
    "        end\n",
    "    end\n",
    "end\n",
    "\n",
    "#Mark unavailable reigons\n",
    "if sum(region_available)<5\n",
    "    #find(region_avilable==0)-1 because the index in region starts with 0\n",
    "    unavailable_region = find(region_available==0)-1;\n",
    "    #If the regions in the unavailable_region shows in Region, it will be\n",
    "    #marked with 1\n",
    "    unavailable_region_ind = ismember(Region, transpose(unavailable_region));\n",
    "    indices_to_be_rm(unavailable_region_ind) = 1;\n",
    "end\n",
    "\n",
    "# Removed all marked instances\n",
    "# We need to backwards\n",
    "if sum(indices_to_be_rm) >0\n",
    "    ind_to_be_removed = find(indices_to_be_rm == 1);\n",
    "    #ind_to_be_removed\n",
    "    for i = sum(indices_to_be_rm):-1:1\n",
    "        ind = ind_to_be_removed(i);\n",
    "        #size(Weekday)\n",
    "        Weekday(ind) = [];\n",
    "        Timeslot(ind) = [];\n",
    "        Min_Trips(ind) = [];\n",
    "        P_new_customer(ind) = [];\n",
    "        Region(ind) = [];\n",
    "    end\n",
    "end\n",
    "# Not sure how to do the remove index that they are doing in matlab\n",
    "\n",
    "# Number of variables\n",
    "n_x = size(Min_Trips,1);\n",
    "# Formulate the IP\n",
    "#  A vector of cost coefficients\n",
    "# Probability of Getting new Customer * Average Trips/Hour\n",
    "f = transpose(P_newcustomer.*Min_Trips).*avg_revenue_trip;\n",
    "# Integer Variables\n",
    "intcon = 1:n_x;\n",
    "\n",
    "# Constraint 1: Maximum number of hours per week\n",
    "A1 = ones(1,n_x); #Lhs\n",
    "b1 = max_hours_per_week/2;  #rhs\n",
    "\n",
    "# Constraint 2: You cannot be in 2 regions during the same time\n",
    "# Initialize A2 and b2\n",
    "A2 = zeros(n_weekdays_choices*n_timeslot_choices,n_x);\n",
    "b2 = ones(n_weekdays_choices*n_timeslot_choices,1); # Upper limit should be 1\n",
    "\n",
    "row_count = 0;\n",
    "\n",
    "for d = weekday_choices\n",
    "    for t = timeslot_choices\n",
    "        row_count = row_count+1;\n",
    "#         matchArray(Weekday,d) \n",
    "        temp1=matchArray(Weekday,d)\n",
    "        temp2=matchArray(Timeslot,t)\n",
    "#         println(temp1)\n",
    "#         println(\"--\")\n",
    "#         print(temp2)\n",
    "#         break\n",
    "        ind_marked = (temp1 .& temp2);\n",
    "#         A2(row_count,ind_marked) =1;  I DO NOT KNOW WHAT MATLAB DOES HERE AND I DONT KNOW HOW TO TRANSLATE IT?\n",
    "        A2[row_count,ind_marked] =1;\n",
    "    end\n",
    "end\n",
    "\n",
    "using JuMP, GLPK\n",
    "A = [A1;A2];\n",
    "b = [b1;b2];\n",
    "lb = zeros(n_x,1); \n",
    "ub = ones(n_x,1);\n",
    "\n",
    "\n",
    "[x,fval] = intlinprog(-f,intcon,A,b,[],[],lb,ub);\n",
    "time_ip = toc;\n",
    "obj_ip = -1*fval;\n",
    "\n",
    "\n",
    "newModel = Model(with_optimizer(GLPK.Optimizer))\n",
    "@variable(newModel, x[i=1:n] >=x_lb[i])\n",
    "for i=1:m\n",
    "    @constraint(newModel, sum(A[i,j]*x[j] for j=1:n) >= b[i])\n",
    "end\n",
    "@objective(newModel, Max, sum(obj_ip*x[j] for j=1:n))\n",
    "println(\"The optimization problem to be solved is:\")\n",
    "print(newModel)\n",
    "\n",
    "@time begin\n",
    "    status = optimize!(newModel)  \n",
    "end\n",
    "\n",
    "println(\"Objective value: \", JuMP.objective_value(newModel))\n",
    "println(\"Optimal solution is x = \\n\", JuMP.value.(x))\n",
    "\n",
    "\n",
    "%% Present the Solution\n",
    "select_list = find(x==1);\n",
    "\n",
    "% Set a basis for the weekday\n",
    "day_number_benchmark = datetime(2017,04,9);\n",
    "\n",
    "% Set a list of our pre-defined timeslot\n",
    "timeslots = {'12AM - 2AM'; '7AM - 9AM'; '4PM - 6PM'; '6PM-8PM'; '8PM-10PM'; '10PM-12AM'};\n",
    "\n",
    "for i = 1:sum(x)\n",
    "    select_time = Timeslot(select_list(i));\n",
    "    select_day = Weekday(select_list(i));\n",
    "    select_region = Region(select_list(i));\n",
    "    \n",
    "    weekday_name = day(day_number_benchmark+select_day,'name');\n",
    "    timeslot = timeslots(select_time +1);\n",
    "    %string_output = ['Recommendation ' num2str(i) ': Region ' num2str(select_region) ', ' timeslot ', ' weekday_name];\n",
    "    \n",
    "    %p_new = P_new_customer(select_list(i));\n",
    "    %min_trip = Min_Trips(select_list(i));\n",
    "    %string_output = ['Recommendation ' num2str(i) ': Region ' num2str(select_region) ', ' timeslot ', ' weekday_name ', ' p_new  ', ' min_trip];\n",
    "    \n",
    "    %disp(string_output)\n",
    "end\n",
    "\n",
    "%string_output = ['Total Revenue Earned: ' num2str(obj_ip)];\n",
    "%disp(string_output)"
   ]
  },
  {
   "cell_type": "code",
   "execution_count": null,
   "id": "70c506c1",
   "metadata": {},
   "outputs": [],
   "source": []
  },
  {
   "cell_type": "code",
   "execution_count": null,
   "id": "4da8530e",
   "metadata": {},
   "outputs": [],
   "source": []
  },
  {
   "cell_type": "code",
   "execution_count": null,
   "id": "908f4b01",
   "metadata": {},
   "outputs": [],
   "source": []
  },
  {
   "cell_type": "code",
   "execution_count": null,
   "id": "bacf18de",
   "metadata": {},
   "outputs": [],
   "source": []
  },
  {
   "cell_type": "code",
   "execution_count": null,
   "id": "10ccad5d",
   "metadata": {},
   "outputs": [],
   "source": []
  }
 ],
 "metadata": {
  "kernelspec": {
   "display_name": "Julia 1.7.2",
   "language": "julia",
   "name": "julia-1.7"
  },
  "language_info": {
   "file_extension": ".jl",
   "mimetype": "application/julia",
   "name": "julia",
   "version": "1.7.2"
  }
 },
 "nbformat": 4,
 "nbformat_minor": 5
}
